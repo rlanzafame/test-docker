{
 "cells": [
  {
   "cell_type": "code",
   "execution_count": 13,
   "id": "2a669353",
   "metadata": {},
   "outputs": [
    {
     "name": "stdout",
     "output_type": "stream",
     "text": [
      "test input\n"
     ]
    }
   ],
   "source": [
    "!cat input"
   ]
  },
  {
   "cell_type": "code",
   "execution_count": 14,
   "id": "687c2922",
   "metadata": {},
   "outputs": [],
   "source": [
    "!read-input.sh"
   ]
  },
  {
   "cell_type": "code",
   "execution_count": 15,
   "id": "40301e9d",
   "metadata": {},
   "outputs": [
    {
     "name": "stdout",
     "output_type": "stream",
     "text": [
      "test input"
     ]
    }
   ],
   "source": [
    "%%sh\n",
    "cat output"
   ]
  },
  {
   "cell_type": "code",
   "execution_count": 16,
   "id": "1c27401a",
   "metadata": {},
   "outputs": [
    {
     "name": "stdout",
     "output_type": "stream",
     "text": [
      "test input\n"
     ]
    }
   ],
   "source": [
    "!cat output"
   ]
  }
 ],
 "metadata": {
  "kernelspec": {
   "display_name": "Python 3 (ipykernel)",
   "language": "python",
   "name": "python3"
  },
  "language_info": {
   "codemirror_mode": {
    "name": "ipython",
    "version": 3
   },
   "file_extension": ".py",
   "mimetype": "text/x-python",
   "name": "python",
   "nbconvert_exporter": "python",
   "pygments_lexer": "ipython3",
   "version": "3.7.6"
  }
 },
 "nbformat": 4,
 "nbformat_minor": 5
}
